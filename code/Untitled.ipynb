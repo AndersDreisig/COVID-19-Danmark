{
 "cells": [
  {
   "cell_type": "code",
   "execution_count": 3,
   "metadata": {},
   "outputs": [],
   "source": [
    "import numpy as np"
   ]
  },
  {
   "cell_type": "code",
   "execution_count": 91,
   "metadata": {},
   "outputs": [],
   "source": [
    "#initial parameters:\n",
    "prevalence_true = 0.01\n",
    "pop_size = int(1E6)\n",
    "sample_size = int(1E4)"
   ]
  },
  {
   "cell_type": "code",
   "execution_count": 106,
   "metadata": {},
   "outputs": [],
   "source": [
    "def test_round(pop_size, pos_true_npp, sample_size):\n",
    "    \n",
    "    population = [True] * pos_true_npp + [False] * (pop_size - pos_true_npp)\n",
    "    new_pos = sum(np.random.choice(population, sample_size, replace = False))\n",
    "    \n",
    "    pos_true_npp = pos_true_npp - new_pos\n",
    "    \n",
    "    return [new_pos, pos_true_npp] \n",
    "\n"
   ]
  },
  {
   "cell_type": "code",
   "execution_count": 113,
   "metadata": {},
   "outputs": [],
   "source": [
    "pos_true_npp = int(pop_size * prev_true) # true positives not previously tested positive\n",
    "\n",
    "new_true_cases = 0 # new true cases per day\n",
    "\n",
    "pos_true = prevalence_true * pop_size\n",
    "\n",
    "new_pos_list = []\n",
    "pos_true_list = []\n",
    "prevalence_true_list = []\n",
    "\n",
    "for _ in range(30):\n",
    "    \n",
    "    new_pos, pos_true_npp = test_round(pop_size, pos_true_npp, sample_size)\n",
    "    \n",
    "    pos_true_npp = pos_true_npp + new_true_cases\n",
    "    pos_true = pos_true + new_true_cases\n",
    "    \n",
    "    pos_true_list.append(pos_true)\n",
    "    new_pos_list.append(new_pos)\n",
    "    prevalence_true_list.append(pos_true/pop_size)\n",
    "    \n",
    "    "
   ]
  },
  {
   "cell_type": "code",
   "execution_count": 114,
   "metadata": {},
   "outputs": [
    {
     "data": {
      "text/plain": [
       "[0.01,\n",
       " 0.01,\n",
       " 0.01,\n",
       " 0.01,\n",
       " 0.01,\n",
       " 0.01,\n",
       " 0.01,\n",
       " 0.01,\n",
       " 0.01,\n",
       " 0.01,\n",
       " 0.01,\n",
       " 0.01,\n",
       " 0.01,\n",
       " 0.01,\n",
       " 0.01,\n",
       " 0.01,\n",
       " 0.01,\n",
       " 0.01,\n",
       " 0.01,\n",
       " 0.01,\n",
       " 0.01,\n",
       " 0.01,\n",
       " 0.01,\n",
       " 0.01,\n",
       " 0.01,\n",
       " 0.01,\n",
       " 0.01,\n",
       " 0.01,\n",
       " 0.01,\n",
       " 0.01]"
      ]
     },
     "execution_count": 114,
     "metadata": {},
     "output_type": "execute_result"
    }
   ],
   "source": [
    "prevalence_true_list"
   ]
  },
  {
   "cell_type": "code",
   "execution_count": 115,
   "metadata": {},
   "outputs": [
    {
     "data": {
      "text/plain": [
       "[101,\n",
       " 103,\n",
       " 93,\n",
       " 97,\n",
       " 111,\n",
       " 95,\n",
       " 98,\n",
       " 104,\n",
       " 98,\n",
       " 88,\n",
       " 92,\n",
       " 86,\n",
       " 87,\n",
       " 83,\n",
       " 89,\n",
       " 90,\n",
       " 82,\n",
       " 74,\n",
       " 91,\n",
       " 70,\n",
       " 85,\n",
       " 72,\n",
       " 81,\n",
       " 87,\n",
       " 77,\n",
       " 85,\n",
       " 64,\n",
       " 83,\n",
       " 79,\n",
       " 78]"
      ]
     },
     "execution_count": 115,
     "metadata": {},
     "output_type": "execute_result"
    }
   ],
   "source": [
    "new_pos_list"
   ]
  },
  {
   "cell_type": "code",
   "execution_count": null,
   "metadata": {},
   "outputs": [],
   "source": []
  }
 ],
 "metadata": {
  "kernelspec": {
   "display_name": "Python 3",
   "language": "python",
   "name": "python3"
  },
  "language_info": {
   "codemirror_mode": {
    "name": "ipython",
    "version": 3
   },
   "file_extension": ".py",
   "mimetype": "text/x-python",
   "name": "python",
   "nbconvert_exporter": "python",
   "pygments_lexer": "ipython3",
   "version": "3.7.4"
  }
 },
 "nbformat": 4,
 "nbformat_minor": 2
}
