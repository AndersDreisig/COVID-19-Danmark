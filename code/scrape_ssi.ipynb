{
 "cells": [
  {
   "cell_type": "markdown",
   "metadata": {},
   "source": [
    "# COVID-19 in DK – Scraper for SSI numbers (with Selenium)"
   ]
  },
  {
   "cell_type": "markdown",
   "metadata": {},
   "source": [
    "### Relevant Libraries"
   ]
  },
  {
   "cell_type": "code",
   "execution_count": 1,
   "metadata": {},
   "outputs": [],
   "source": [
    "from selenium import webdriver\n",
    "from time import sleep\n",
    "from bs4 import BeautifulSoup as bs\n",
    "\n",
    "from datetime import datetime\n",
    "import os\n",
    "\n",
    "import pandas as pd\n",
    "import numpy as np"
   ]
  },
  {
   "cell_type": "markdown",
   "metadata": {},
   "source": [
    "### Selenium start-up"
   ]
  },
  {
   "cell_type": "code",
   "execution_count": 5,
   "metadata": {},
   "outputs": [],
   "source": [
    "# <<< Insert your starting URL in the line below >>>\n",
    "\n",
    "start_url='https://sseruminstitut.maps.arcgis.com/apps/opsdashboard/index.html#/f1d9acad6d0947ecaae1aee987f13339' \n",
    "\n",
    "options = webdriver.ChromeOptions()\n",
    "\n",
    "# <<< Change the path to your chromedriver's location >>>\n",
    "driver = webdriver.Chrome(executable_path=\"/Users/kristofferbaek/Documents/Projekter/Dataanalyse/Covid/Covid-19-Danmark/code/chromedriver\", options=options)\n",
    "driver.get(start_url)\n",
    "sleep(10)"
   ]
  },
  {
   "cell_type": "markdown",
   "metadata": {},
   "source": [
    "### Creating a results folder"
   ]
  },
  {
   "cell_type": "code",
   "execution_count": 21,
   "metadata": {},
   "outputs": [
    {
     "name": "stdout",
     "output_type": "stream",
     "text": [
      "Directory  Dashboard  already exists\n"
     ]
    }
   ],
   "source": [
    "# Create folder for the .csv results\n",
    "\n",
    "# <<< Change path to your working directory >>>\n",
    "wd = \"/Users/kristofferbaek/Documents/Projekter/Dataanalyse/Covid/Covid-19-Danmark/data/\"\n",
    "\n",
    "now = datetime.now()\n",
    "#current_time = now.strftime(\"%d%m%y\")\n",
    "dirName = \"Dashboard\"\n",
    "\n",
    "try:\n",
    "    # Create target Directory\n",
    "    os.mkdir(os.path.join(wd, dirName))\n",
    "    print(\"Directory \" , dirName ,  \" Created \") \n",
    "except FileExistsError:\n",
    "    print(\"Directory \" , dirName ,  \" already exists\")"
   ]
  },
  {
   "cell_type": "markdown",
   "metadata": {},
   "source": [
    "### Scraping"
   ]
  },
  {
   "cell_type": "code",
   "execution_count": 8,
   "metadata": {},
   "outputs": [],
   "source": [
    "data = []\n",
    "\n",
    "soup = bs(driver.page_source, 'html')\n",
    "    \n",
    "text_elements = soup.find_all('text')\n",
    "\n",
    "for element in text_elements:\n",
    "\n",
    "    try:\n",
    "        value = element.getText() \n",
    "    except:\n",
    "        value = -1\n",
    "\n",
    "    data.append({\"val\": value})\n"
   ]
  },
  {
   "cell_type": "code",
   "execution_count": 9,
   "metadata": {
    "scrolled": false
   },
   "outputs": [],
   "source": [
    "dataa = pd.DataFrame(data)[0:30]"
   ]
  },
  {
   "cell_type": "code",
   "execution_count": 10,
   "metadata": {},
   "outputs": [],
   "source": [
    "dataa = dataa.drop([26,29], axis = 0).reset_index(drop=True)"
   ]
  },
  {
   "cell_type": "code",
   "execution_count": 22,
   "metadata": {
    "scrolled": true
   },
   "outputs": [],
   "source": [
    "df = pd.DataFrame(dataa.val.values.reshape(-1,2),columns=['variable','values'])"
   ]
  },
  {
   "cell_type": "code",
   "execution_count": 23,
   "metadata": {},
   "outputs": [
    {
     "data": {
      "text/html": [
       "<div>\n",
       "<style scoped>\n",
       "    .dataframe tbody tr th:only-of-type {\n",
       "        vertical-align: middle;\n",
       "    }\n",
       "\n",
       "    .dataframe tbody tr th {\n",
       "        vertical-align: top;\n",
       "    }\n",
       "\n",
       "    .dataframe thead th {\n",
       "        text-align: right;\n",
       "    }\n",
       "</style>\n",
       "<table border=\"1\" class=\"dataframe\">\n",
       "  <thead>\n",
       "    <tr style=\"text-align: right;\">\n",
       "      <th></th>\n",
       "      <th>variable</th>\n",
       "      <th>values</th>\n",
       "    </tr>\n",
       "  </thead>\n",
       "  <tbody>\n",
       "    <tr>\n",
       "      <td>0</td>\n",
       "      <td>Prøver</td>\n",
       "      <td>49.143</td>\n",
       "    </tr>\n",
       "    <tr>\n",
       "      <td>1</td>\n",
       "      <td>Førstegangstestede</td>\n",
       "      <td>20.254</td>\n",
       "    </tr>\n",
       "    <tr>\n",
       "      <td>2</td>\n",
       "      <td>Bekræftede tilfælde</td>\n",
       "      <td>435</td>\n",
       "    </tr>\n",
       "    <tr>\n",
       "      <td>3</td>\n",
       "      <td>Dødsfald</td>\n",
       "      <td>0</td>\n",
       "    </tr>\n",
       "    <tr>\n",
       "      <td>4</td>\n",
       "      <td>Nye indlæggelser</td>\n",
       "      <td>18</td>\n",
       "    </tr>\n",
       "    <tr>\n",
       "      <td>5</td>\n",
       "      <td>Overstået infektion</td>\n",
       "      <td>292</td>\n",
       "    </tr>\n",
       "    <tr>\n",
       "      <td>6</td>\n",
       "      <td>Prøver</td>\n",
       "      <td>3.759.877</td>\n",
       "    </tr>\n",
       "    <tr>\n",
       "      <td>7</td>\n",
       "      <td>Testede personer</td>\n",
       "      <td>2.357.180</td>\n",
       "    </tr>\n",
       "    <tr>\n",
       "      <td>8</td>\n",
       "      <td>Bekræftede tilfælde</td>\n",
       "      <td>27.072</td>\n",
       "    </tr>\n",
       "    <tr>\n",
       "      <td>9</td>\n",
       "      <td>Dødsfald</td>\n",
       "      <td>649 (2,4%)</td>\n",
       "    </tr>\n",
       "    <tr>\n",
       "      <td>10</td>\n",
       "      <td>Indlæggelser</td>\n",
       "      <td>3.186</td>\n",
       "    </tr>\n",
       "    <tr>\n",
       "      <td>11</td>\n",
       "      <td>Overstået infektion</td>\n",
       "      <td>19.942</td>\n",
       "    </tr>\n",
       "    <tr>\n",
       "      <td>12</td>\n",
       "      <td>Ændring i antal indlæggelser</td>\n",
       "      <td>+15</td>\n",
       "    </tr>\n",
       "    <tr>\n",
       "      <td>13</td>\n",
       "      <td>Indlagte i dag</td>\n",
       "      <td>110</td>\n",
       "    </tr>\n",
       "  </tbody>\n",
       "</table>\n",
       "</div>"
      ],
      "text/plain": [
       "                        variable      values\n",
       "0                         Prøver      49.143\n",
       "1             Førstegangstestede      20.254\n",
       "2            Bekræftede tilfælde         435\n",
       "3                       Dødsfald           0\n",
       "4               Nye indlæggelser          18\n",
       "5            Overstået infektion         292\n",
       "6                         Prøver   3.759.877\n",
       "7               Testede personer   2.357.180\n",
       "8            Bekræftede tilfælde      27.072\n",
       "9                       Dødsfald  649 (2,4%)\n",
       "10                  Indlæggelser       3.186\n",
       "11           Overstået infektion      19.942\n",
       "12  Ændring i antal indlæggelser         +15\n",
       "13                Indlagte i dag         110"
      ]
     },
     "execution_count": 23,
     "metadata": {},
     "output_type": "execute_result"
    }
   ],
   "source": [
    "df"
   ]
  },
  {
   "cell_type": "markdown",
   "metadata": {},
   "source": [
    "### Export"
   ]
  },
  {
   "cell_type": "code",
   "execution_count": 24,
   "metadata": {},
   "outputs": [],
   "source": [
    "df.to_csv(os.path.join(wd, dirName,'Dashboard_{}.csv'.format(datetime.now().strftime(\"%y%m%d\"))), index = True, header = True)"
   ]
  },
  {
   "cell_type": "code",
   "execution_count": null,
   "metadata": {},
   "outputs": [],
   "source": []
  }
 ],
 "metadata": {
  "kernelspec": {
   "display_name": "Python 3",
   "language": "python",
   "name": "python3"
  },
  "language_info": {
   "codemirror_mode": {
    "name": "ipython",
    "version": 3
   },
   "file_extension": ".py",
   "mimetype": "text/x-python",
   "name": "python",
   "nbconvert_exporter": "python",
   "pygments_lexer": "ipython3",
   "version": "3.7.4"
  }
 },
 "nbformat": 4,
 "nbformat_minor": 4
}
