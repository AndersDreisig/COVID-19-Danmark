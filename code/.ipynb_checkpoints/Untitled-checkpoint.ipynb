{
 "cells": [
  {
   "cell_type": "code",
   "execution_count": 3,
   "metadata": {},
   "outputs": [],
   "source": [
    "import numpy as np"
   ]
  },
  {
   "cell_type": "code",
   "execution_count": 91,
   "metadata": {},
   "outputs": [],
   "source": [
    "#initial parameters:\n",
    "prevalence_true = 0.01\n",
    "pop_size = int(1E6)\n",
    "sample_size = int(1E4)"
   ]
  },
  {
   "cell_type": "code",
   "execution_count": 106,
   "metadata": {},
   "outputs": [],
   "source": [
    "def test_round(pop_size, pos_true_npp, sample_size):\n",
    "    \n",
    "    population = [True] * pos_true_npp + [False] * (pop_size - pos_true_npp)\n",
    "    new_pos = sum(np.random.choice(population, sample_size, replace = False))\n",
    "    \n",
    "    pos_true_npp = pos_true_npp - new_pos\n",
    "    \n",
    "    return [new_pos, pos_true_npp] \n",
    "\n"
   ]
  },
  {
   "cell_type": "code",
   "execution_count": 110,
   "metadata": {},
   "outputs": [
    {
     "name": "stdout",
     "output_type": "stream",
     "text": [
      "Nye påviste tilfælde: 95\n",
      "Målt positivandel: 0.0095\n",
      "Målt incidens: 9.5e-05\n",
      "Sand prevalæns: 0.01\n",
      "Sand incidens: 0.0\n",
      " \n",
      "Nye påviste tilfælde: 99\n",
      "Målt positivandel: 0.0099\n",
      "Målt incidens: 9.9e-05\n",
      "Sand prevalæns: 0.01\n",
      "Sand incidens: 0.0\n",
      " \n",
      "Nye påviste tilfælde: 93\n",
      "Målt positivandel: 0.0093\n",
      "Målt incidens: 9.3e-05\n",
      "Sand prevalæns: 0.01\n",
      "Sand incidens: 0.0\n",
      " \n",
      "Nye påviste tilfælde: 106\n",
      "Målt positivandel: 0.0106\n",
      "Målt incidens: 0.000106\n",
      "Sand prevalæns: 0.01\n",
      "Sand incidens: 0.0\n",
      " \n",
      "Nye påviste tilfælde: 91\n",
      "Målt positivandel: 0.0091\n",
      "Målt incidens: 9.1e-05\n",
      "Sand prevalæns: 0.01\n",
      "Sand incidens: 0.0\n",
      " \n",
      "Nye påviste tilfælde: 89\n",
      "Målt positivandel: 0.0089\n",
      "Målt incidens: 8.9e-05\n",
      "Sand prevalæns: 0.01\n",
      "Sand incidens: 0.0\n",
      " \n",
      "Nye påviste tilfælde: 115\n",
      "Målt positivandel: 0.0115\n",
      "Målt incidens: 0.000115\n",
      "Sand prevalæns: 0.01\n",
      "Sand incidens: 0.0\n",
      " \n",
      "Nye påviste tilfælde: 101\n",
      "Målt positivandel: 0.0101\n",
      "Målt incidens: 0.000101\n",
      "Sand prevalæns: 0.01\n",
      "Sand incidens: 0.0\n",
      " \n",
      "Nye påviste tilfælde: 99\n",
      "Målt positivandel: 0.0099\n",
      "Målt incidens: 9.9e-05\n",
      "Sand prevalæns: 0.01\n",
      "Sand incidens: 0.0\n",
      " \n",
      "Nye påviste tilfælde: 104\n",
      "Målt positivandel: 0.0104\n",
      "Målt incidens: 0.000104\n",
      "Sand prevalæns: 0.01\n",
      "Sand incidens: 0.0\n",
      " \n"
     ]
    }
   ],
   "source": [
    "pos_true_npp = int(pop_size * prev_true) # true positives not previously tested positive\n",
    "\n",
    "new_true_cases = 0 # new true cases per day\n",
    "\n",
    "pos_true = prevalence_true * pop_size\n",
    "\n",
    "new_pos_list = []\n",
    "pos_true_list = []\n",
    "\n",
    "for _ in range(30):\n",
    "    new_pos, pos_true_npp = test_round(pop_size, pos_true_npp, sample_size)\n",
    "    \n",
    "    pos_true_npp = pos_true_npp + new_true_cases\n",
    "    \n",
    "    pos_true = pos_true + new_true_cases\n",
    "    \n",
    "    pos_true_list.append(pos_true)\n",
    "    \n",
    "    new_pos_list.append(new_pos)\n",
    "    \n",
    "    #print(\"Nye påviste tilfælde: \" + str(new_pos))\n",
    "    #print(\"Målt positivandel: \" + str(round(new_pos/sample_size, 4)))\n",
    "    #print(\"Målt incidens: \" + str(round(new_pos/pop_size, 6)))\n",
    "    #print(\"Sand prevalæns: \" + str(round(pos_true/pop_size, 4)))\n",
    "   # print(\"Sand incidens: \" + str(round(new_true_cases/pop_size, 4)))\n",
    "    #print(\" \")\n",
    "    \n",
    "    "
   ]
  },
  {
   "cell_type": "code",
   "execution_count": 108,
   "metadata": {},
   "outputs": [
    {
     "data": {
      "text/plain": [
       "[11000.0,\n",
       " 12000.0,\n",
       " 13000.0,\n",
       " 14000.0,\n",
       " 15000.0,\n",
       " 16000.0,\n",
       " 17000.0,\n",
       " 18000.0,\n",
       " 19000.0,\n",
       " 20000.0]"
      ]
     },
     "execution_count": 108,
     "metadata": {},
     "output_type": "execute_result"
    }
   ],
   "source": [
    "pos_true_list"
   ]
  },
  {
   "cell_type": "code",
   "execution_count": 111,
   "metadata": {},
   "outputs": [
    {
     "data": {
      "text/plain": [
       "[95, 99, 93, 106, 91, 89, 115, 101, 99, 104]"
      ]
     },
     "execution_count": 111,
     "metadata": {},
     "output_type": "execute_result"
    }
   ],
   "source": [
    "new_pos_list"
   ]
  },
  {
   "cell_type": "code",
   "execution_count": null,
   "metadata": {},
   "outputs": [],
   "source": []
  }
 ],
 "metadata": {
  "kernelspec": {
   "display_name": "Python 3",
   "language": "python",
   "name": "python3"
  },
  "language_info": {
   "codemirror_mode": {
    "name": "ipython",
    "version": 3
   },
   "file_extension": ".py",
   "mimetype": "text/x-python",
   "name": "python",
   "nbconvert_exporter": "python",
   "pygments_lexer": "ipython3",
   "version": "3.7.4"
  }
 },
 "nbformat": 4,
 "nbformat_minor": 2
}
