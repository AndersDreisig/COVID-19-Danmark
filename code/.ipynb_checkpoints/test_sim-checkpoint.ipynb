{
 "cells": [
  {
   "cell_type": "code",
   "execution_count": 1,
   "metadata": {},
   "outputs": [],
   "source": [
    "import numpy as np"
   ]
  },
  {
   "cell_type": "code",
   "execution_count": 37,
   "metadata": {},
   "outputs": [
    {
     "name": "stdout",
     "output_type": "stream",
     "text": [
      "New pos: 98\n",
      "New pos: 85\n",
      "New pos: 93\n",
      "New pos: 94\n",
      "New pos: 93\n",
      "New pos: 100\n",
      "New pos: 79\n",
      "New pos: 86\n",
      "New pos: 111\n",
      "New pos: 81\n",
      "New pos: 101\n",
      "New pos: 104\n",
      "New pos: 92\n",
      "New pos: 78\n",
      "New pos: 88\n",
      "New pos: 115\n",
      "New pos: 81\n",
      "New pos: 81\n",
      "New pos: 104\n",
      "New pos: 76\n",
      "New pos: 82\n",
      "New pos: 81\n",
      "New pos: 86\n",
      "New pos: 105\n",
      "New pos: 107\n",
      "New pos: 98\n",
      "New pos: 100\n",
      "New pos: 106\n",
      "New pos: 81\n",
      "New pos: 93\n"
     ]
    }
   ],
   "source": [
    "#initial parameters\n",
    "prevalence_true = 0.01\n",
    "pop_size = int(1E6)\n",
    "sample_size = int(1E4)\n",
    "\n",
    "# inital values\n",
    "pos_true = int(pop_size * prevalence_true) # true positives\n",
    "pos_true_pp = 0 # true positives previously tested positive\n",
    "pos_true_npp = pos_true - pos_true_pp # true positives not previously tested positive\n",
    "\n",
    "# infection growth\n",
    "add = 0.1\n",
    "remove = 0.1\n",
    "\n",
    "# result lists\n",
    "new_pos_list = []\n",
    "pos_true_list = []\n",
    "prevalence_true_list = []\n",
    "\n",
    "\n",
    "for _ in range(30):\n",
    "\n",
    "    # 0 = negative, 1 = true positive NOT previously tested positive, 2 = true positive previously tested positive\n",
    "    population = [2] * pos_true_pp + [1] * pos_true_npp + [0] * (pop_size - pos_true)\n",
    "\n",
    "    sample = np.random.choice(population, sample_size, replace = False) # draw random sample from population\n",
    "    new_pos = sample.tolist().count(1) # count positives NOT previously tested positive\n",
    "\n",
    "    print(\"New pos: \" + str(new_pos))\n",
    "    \n",
    "    # draw recovered persons randomly from positive population\n",
    "    r = int(remove * pos_true)\n",
    "    recovered = np.random.choice([person for person in population if person is not 0], r, replace = False)\n",
    "    \n",
    "    # calculate new size of positive population\n",
    "    pos_true = int(pos_true + pos_true * (add - remove))\n",
    "    \n",
    "    # calculate new number of true positives previosly tested positive\n",
    "    pos_true_pp = pos_true_pp + new_pos - recovered.tolist().count(2)\n",
    "    \n",
    "    # calculate new number of true positives NOT previosly tested positive\n",
    "    pos_true_npp = pos_true - pos_true_pp\n",
    "    \n",
    "    # append results to lists\n",
    "    pos_true_list.append(pos_true)\n",
    "    new_pos_list.append(new_pos)\n",
    "    prevalence_true_list.append(pos_true/pop_size)\n",
    "    \n",
    "    "
   ]
  },
  {
   "cell_type": "code",
   "execution_count": 35,
   "metadata": {},
   "outputs": [
    {
     "data": {
      "text/plain": [
       "[105,\n",
       " 111,\n",
       " 93,\n",
       " 85,\n",
       " 107,\n",
       " 96,\n",
       " 114,\n",
       " 106,\n",
       " 106,\n",
       " 100,\n",
       " 130,\n",
       " 111,\n",
       " 105,\n",
       " 104,\n",
       " 117,\n",
       " 110,\n",
       " 113,\n",
       " 103,\n",
       " 106,\n",
       " 113,\n",
       " 119,\n",
       " 108,\n",
       " 113,\n",
       " 105,\n",
       " 112,\n",
       " 107,\n",
       " 105,\n",
       " 105,\n",
       " 110,\n",
       " 113]"
      ]
     },
     "execution_count": 35,
     "metadata": {},
     "output_type": "execute_result"
    }
   ],
   "source": [
    "new_pos_list"
   ]
  },
  {
   "cell_type": "code",
   "execution_count": 38,
   "metadata": {},
   "outputs": [
    {
     "data": {
      "text/plain": [
       "[0.01,\n",
       " 0.01,\n",
       " 0.01,\n",
       " 0.01,\n",
       " 0.01,\n",
       " 0.01,\n",
       " 0.01,\n",
       " 0.01,\n",
       " 0.01,\n",
       " 0.01,\n",
       " 0.01,\n",
       " 0.01,\n",
       " 0.01,\n",
       " 0.01,\n",
       " 0.01,\n",
       " 0.01,\n",
       " 0.01,\n",
       " 0.01,\n",
       " 0.01,\n",
       " 0.01,\n",
       " 0.01,\n",
       " 0.01,\n",
       " 0.01,\n",
       " 0.01,\n",
       " 0.01,\n",
       " 0.01,\n",
       " 0.01,\n",
       " 0.01,\n",
       " 0.01,\n",
       " 0.01]"
      ]
     },
     "execution_count": 38,
     "metadata": {},
     "output_type": "execute_result"
    }
   ],
   "source": [
    "prevalence_true_list"
   ]
  },
  {
   "cell_type": "code",
   "execution_count": null,
   "metadata": {},
   "outputs": [],
   "source": []
  }
 ],
 "metadata": {
  "kernelspec": {
   "display_name": "Python 3",
   "language": "python",
   "name": "python3"
  },
  "language_info": {
   "codemirror_mode": {
    "name": "ipython",
    "version": 3
   },
   "file_extension": ".py",
   "mimetype": "text/x-python",
   "name": "python",
   "nbconvert_exporter": "python",
   "pygments_lexer": "ipython3",
   "version": "3.7.4"
  }
 },
 "nbformat": 4,
 "nbformat_minor": 2
}
