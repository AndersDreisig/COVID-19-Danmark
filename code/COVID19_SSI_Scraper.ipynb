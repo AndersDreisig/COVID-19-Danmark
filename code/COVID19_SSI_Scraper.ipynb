{
 "cells": [
  {
   "cell_type": "markdown",
   "metadata": {},
   "source": [
    "# COVID-19 in DK – Scraper for SSI numbers (with Selenium)"
   ]
  },
  {
   "cell_type": "markdown",
   "metadata": {},
   "source": [
    "### Relevant Libraries"
   ]
  },
  {
   "cell_type": "code",
   "execution_count": 1,
   "metadata": {},
   "outputs": [],
   "source": [
    "from selenium import webdriver\n",
    "from time import sleep\n",
    "from bs4 import BeautifulSoup as bs\n",
    "\n",
    "from datetime import datetime\n",
    "import os\n",
    "\n",
    "import pandas as pd\n",
    "import numpy as np"
   ]
  },
  {
   "cell_type": "markdown",
   "metadata": {},
   "source": [
    "### Selenium start-up"
   ]
  },
  {
   "cell_type": "code",
   "execution_count": 18,
   "metadata": {},
   "outputs": [],
   "source": [
    "# <<< Insert your starting URL in the line below >>>\n",
    "\n",
    "start_url='https://sseruminstitut.maps.arcgis.com/apps/opsdashboard/index.html#/f1d9acad6d0947ecaae1aee987f13339' \n",
    "\n",
    "options = webdriver.ChromeOptions()\n",
    "\n",
    "# <<< Change the path to your chromedriver's location >>>\n",
    "driver = webdriver.Chrome(executable_path=\"/Users/Francesco/Documents/Learn/chromedriver\", options=options)\n",
    "driver.get(start_url)\n",
    "sleep(10)"
   ]
  },
  {
   "cell_type": "markdown",
   "metadata": {},
   "source": [
    "### Creating a results folder"
   ]
  },
  {
   "cell_type": "code",
   "execution_count": 26,
   "metadata": {},
   "outputs": [
    {
     "name": "stdout",
     "output_type": "stream",
     "text": [
      "Directory  250620  already exists\n"
     ]
    }
   ],
   "source": [
    "# Create folder for the .csv results\n",
    "\n",
    "# <<< Change path to your working directory >>>\n",
    "wd = \"/Users/Francesco/Documents/Learn/Other/Franz/Boligportal\"\n",
    "\n",
    "now = datetime.now()\n",
    "current_time = now.strftime(\"%d%m%y\")\n",
    "dirName = current_time\n",
    "\n",
    "try:\n",
    "    # Create target Directory\n",
    "    os.mkdir(os.path.join(wd, dirName))\n",
    "    print(\"Directory \" , dirName ,  \" Created \") \n",
    "except FileExistsError:\n",
    "    print(\"Directory \" , dirName ,  \" already exists\")"
   ]
  },
  {
   "cell_type": "markdown",
   "metadata": {},
   "source": [
    "### Scraping"
   ]
  },
  {
   "cell_type": "code",
   "execution_count": 85,
   "metadata": {},
   "outputs": [],
   "source": [
    "data = []\n",
    "\n",
    "soup = bs(driver.page_source, 'html')\n",
    "    \n",
    "text_elements = soup.find_all('text')\n",
    "\n",
    "for element in text_elements:\n",
    "\n",
    "    try:\n",
    "        value = element.getText() \n",
    "    except:\n",
    "        value = -1\n",
    "\n",
    "    data.append({\"val\": value})\n"
   ]
  },
  {
   "cell_type": "code",
   "execution_count": 86,
   "metadata": {
    "scrolled": false
   },
   "outputs": [],
   "source": [
    "dataa = pd.DataFrame(data)[0:30]"
   ]
  },
  {
   "cell_type": "code",
   "execution_count": 87,
   "metadata": {},
   "outputs": [],
   "source": [
    "dataa = dataa.drop([26,29], axis = 0).reset_index(drop=True)"
   ]
  },
  {
   "cell_type": "code",
   "execution_count": 88,
   "metadata": {
    "scrolled": true
   },
   "outputs": [],
   "source": [
    "df = pd.DataFrame(dataa.val.values.reshape(-1,2),columns=['variable','value'])"
   ]
  },
  {
   "cell_type": "code",
   "execution_count": 89,
   "metadata": {},
   "outputs": [
    {
     "data": {
      "text/html": [
       "<div>\n",
       "<style scoped>\n",
       "    .dataframe tbody tr th:only-of-type {\n",
       "        vertical-align: middle;\n",
       "    }\n",
       "\n",
       "    .dataframe tbody tr th {\n",
       "        vertical-align: top;\n",
       "    }\n",
       "\n",
       "    .dataframe thead th {\n",
       "        text-align: right;\n",
       "    }\n",
       "</style>\n",
       "<table border=\"1\" class=\"dataframe\">\n",
       "  <thead>\n",
       "    <tr style=\"text-align: right;\">\n",
       "      <th></th>\n",
       "      <th>variable</th>\n",
       "      <th>value</th>\n",
       "    </tr>\n",
       "  </thead>\n",
       "  <tbody>\n",
       "    <tr>\n",
       "      <th>0</th>\n",
       "      <td>Prøver</td>\n",
       "      <td>46,828</td>\n",
       "    </tr>\n",
       "    <tr>\n",
       "      <th>1</th>\n",
       "      <td>Førstegangstestede</td>\n",
       "      <td>19,712</td>\n",
       "    </tr>\n",
       "    <tr>\n",
       "      <th>2</th>\n",
       "      <td>Bekræftede tilfælde</td>\n",
       "      <td>424</td>\n",
       "    </tr>\n",
       "    <tr>\n",
       "      <th>3</th>\n",
       "      <td>Dødsfald</td>\n",
       "      <td>1</td>\n",
       "    </tr>\n",
       "    <tr>\n",
       "      <th>4</th>\n",
       "      <td>Nye indlæggelser</td>\n",
       "      <td>13</td>\n",
       "    </tr>\n",
       "    <tr>\n",
       "      <th>5</th>\n",
       "      <td>Overstået infektion</td>\n",
       "      <td>300</td>\n",
       "    </tr>\n",
       "    <tr>\n",
       "      <th>6</th>\n",
       "      <td>Prøver</td>\n",
       "      <td>3,710,734</td>\n",
       "    </tr>\n",
       "    <tr>\n",
       "      <th>7</th>\n",
       "      <td>Testede personer</td>\n",
       "      <td>2,336,926</td>\n",
       "    </tr>\n",
       "    <tr>\n",
       "      <th>8</th>\n",
       "      <td>Bekræftede tilfælde</td>\n",
       "      <td>26,637</td>\n",
       "    </tr>\n",
       "    <tr>\n",
       "      <th>9</th>\n",
       "      <td>Dødsfald</td>\n",
       "      <td>649 (2.4%)</td>\n",
       "    </tr>\n",
       "    <tr>\n",
       "      <th>10</th>\n",
       "      <td>Indlæggelser</td>\n",
       "      <td>3,171</td>\n",
       "    </tr>\n",
       "    <tr>\n",
       "      <th>11</th>\n",
       "      <td>Overstået infektion</td>\n",
       "      <td>19,650</td>\n",
       "    </tr>\n",
       "    <tr>\n",
       "      <th>12</th>\n",
       "      <td>Ændring i antal indlæggelser</td>\n",
       "      <td>-2</td>\n",
       "    </tr>\n",
       "    <tr>\n",
       "      <th>13</th>\n",
       "      <td>Indlagte i dag</td>\n",
       "      <td>95</td>\n",
       "    </tr>\n",
       "  </tbody>\n",
       "</table>\n",
       "</div>"
      ],
      "text/plain": [
       "                        variable       value\n",
       "0                         Prøver      46,828\n",
       "1             Førstegangstestede      19,712\n",
       "2            Bekræftede tilfælde         424\n",
       "3                       Dødsfald           1\n",
       "4               Nye indlæggelser          13\n",
       "5            Overstået infektion         300\n",
       "6                         Prøver   3,710,734\n",
       "7               Testede personer   2,336,926\n",
       "8            Bekræftede tilfælde      26,637\n",
       "9                       Dødsfald  649 (2.4%)\n",
       "10                  Indlæggelser       3,171\n",
       "11           Overstået infektion      19,650\n",
       "12  Ændring i antal indlæggelser          -2\n",
       "13                Indlagte i dag          95"
      ]
     },
     "execution_count": 89,
     "metadata": {},
     "output_type": "execute_result"
    }
   ],
   "source": [
    "df"
   ]
  },
  {
   "cell_type": "markdown",
   "metadata": {},
   "source": [
    "### Export"
   ]
  },
  {
   "cell_type": "code",
   "execution_count": null,
   "metadata": {},
   "outputs": [],
   "source": [
    "df.to_csv(os.path.join(wd, dirName,'COVID19_DK_{}.csv'.format(datetime.now().strftime(\"%d%m%y\"))), index = True, header = True)"
   ]
  }
 ],
 "metadata": {
  "kernelspec": {
   "display_name": "Python 3",
   "language": "python",
   "name": "python3"
  },
  "language_info": {
   "codemirror_mode": {
    "name": "ipython",
    "version": 3
   },
   "file_extension": ".py",
   "mimetype": "text/x-python",
   "name": "python",
   "nbconvert_exporter": "python",
   "pygments_lexer": "ipython3",
   "version": "3.7.7"
  }
 },
 "nbformat": 4,
 "nbformat_minor": 4
}
